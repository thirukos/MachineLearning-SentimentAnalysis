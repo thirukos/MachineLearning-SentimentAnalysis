{
 "cells": [
  {
   "cell_type": "code",
<<<<<<< HEAD
   "execution_count": 46,
=======
   "execution_count": 308,
>>>>>>> b645388f9c7ddac0421169ffc0d79f24e2c5a761
   "metadata": {},
   "outputs": [],
   "source": [
    "# pip install cleantext"
   ]
  },
  {
   "cell_type": "code",
<<<<<<< HEAD
   "execution_count": 7,
=======
   "execution_count": 309,
>>>>>>> b645388f9c7ddac0421169ffc0d79f24e2c5a761
   "metadata": {},
   "outputs": [
    {
     "name": "stderr",
     "output_type": "stream",
     "text": [
      "[nltk_data] Downloading package stopwords to\n",
      "[nltk_data]     C:\\Users\\sureshv\\AppData\\Roaming\\nltk_data...\n",
      "[nltk_data]   Package stopwords is already up-to-date!\n",
      "[nltk_data] Downloading package punkt to\n",
      "[nltk_data]     C:\\Users\\sureshv\\AppData\\Roaming\\nltk_data...\n",
      "[nltk_data]   Package punkt is already up-to-date!\n",
      "[nltk_data] Downloading package wordnet to\n",
      "[nltk_data]     C:\\Users\\sureshv\\AppData\\Roaming\\nltk_data...\n",
      "[nltk_data]   Package wordnet is already up-to-date!\n",
      "[nltk_data] Downloading package omw-1.4 to\n",
      "[nltk_data]     C:\\Users\\sureshv\\AppData\\Roaming\\nltk_data...\n",
      "[nltk_data]   Package omw-1.4 is already up-to-date!\n"
     ]
    }
   ],
   "source": [
    "import numpy as np\n",
    "import pandas as pd\n",
    "import string\n",
    "import nltk\n",
    "import os\n",
    "nltk.download('stopwords')\n",
    "nltk.download('punkt')\n",
    "nltk.download('wordnet')\n",
    "nltk.download('omw-1.4')\n",
    "from nltk.corpus import stopwords\n",
    "from nltk.tokenize import word_tokenize\n",
    "from cleantext import clean\n",
    "import re"
   ]
  },
  {
   "cell_type": "code",
<<<<<<< HEAD
   "execution_count": 8,
   "metadata": {},
   "outputs": [],
   "source": [
    "# Set file path\n",
    "input_file_path = 'D:\\\\TCD\\\\Term1\\\\CS7CS4 - ML\\\\group project\\\\MachineLearning-group-project\\\\RawDatasets\\\\'"
   ]
  },
  {
   "cell_type": "code",
   "execution_count": 12,
   "metadata": {},
   "outputs": [
    {
     "data": {
      "text/html": [
       "<div>\n",
       "<style scoped>\n",
       "    .dataframe tbody tr th:only-of-type {\n",
       "        vertical-align: middle;\n",
       "    }\n",
       "\n",
       "    .dataframe tbody tr th {\n",
       "        vertical-align: top;\n",
       "    }\n",
       "\n",
       "    .dataframe thead th {\n",
       "        text-align: right;\n",
       "    }\n",
       "</style>\n",
       "<table border=\"1\" class=\"dataframe\">\n",
       "  <thead>\n",
       "    <tr style=\"text-align: right;\">\n",
       "      <th></th>\n",
       "      <th>content</th>\n",
       "    </tr>\n",
       "  </thead>\n",
       "  <tbody>\n",
       "    <tr>\n",
       "      <th>0</th>\n",
       "      <td>NaN</td>\n",
       "    </tr>\n",
       "    <tr>\n",
       "      <th>1</th>\n",
       "      <td>Have a nice night trip with T \\r\\nUK to Delhi....</td>\n",
       "    </tr>\n",
       "    <tr>\n",
       "      <th>2</th>\n",
       "      <td>NaN</td>\n",
       "    </tr>\n",
       "    <tr>\n",
       "      <th>3</th>\n",
       "      <td>May her soul RIP. As a nation we are with the ...</td>\n",
       "    </tr>\n",
       "    <tr>\n",
       "      <th>4</th>\n",
       "      <td>NaN</td>\n",
       "    </tr>\n",
       "  </tbody>\n",
       "</table>\n",
       "</div>"
      ],
      "text/plain": [
       "                                             content\n",
       "0                                                NaN\n",
       "1  Have a nice night trip with T \\r\\nUK to Delhi....\n",
       "2                                                NaN\n",
       "3  May her soul RIP. As a nation we are with the ...\n",
       "4                                                NaN"
      ]
     },
     "execution_count": 12,
     "metadata": {},
     "output_type": "execute_result"
    }
   ],
   "source": [
    "# Read the data set\n",
    "df = pd.read_csv(input_file_path + 'tweets_india.csv') #, usecols=['content']\n",
    "# df['Origin'] = 'southasia'\n",
    "df.head()"
   ]
  },
  {
   "cell_type": "code",
   "execution_count": 50,
   "metadata": {},
   "outputs": [
    {
     "name": "stdout",
     "output_type": "stream",
     "text": [
      "-------------------\n",
      "Dataset content\n",
      "-------------------\n",
      "                                             content\n",
      "0  Have a nice night trip with T \\r\\nUK to Delhi....\n",
      "1  May her soul RIP. As a nation we are with the ...\n",
      "2  @SanjayAzadSln अत्यंत दुखद दिवंगत आत्मा को श्र...\n",
      "3  @firki07 Firki with queen 😭 https://t.co/mhvgH...\n",
      "4  @TuckerCarlson This so called great Britain lo...\n",
      "-------------------\n",
      "Length of data set:  932\n",
      "Shape of data set:  (932, 1)\n",
      "-------------------\n",
      "Dataset information\n",
      "-------------------\n",
      "<class 'pandas.core.frame.DataFrame'>\n",
      "RangeIndex: 932 entries, 0 to 931\n",
      "Data columns (total 1 columns):\n",
      " #   Column   Non-Null Count  Dtype \n",
      "---  ------   --------------  ----- \n",
      " 0   content  932 non-null    object\n",
      "dtypes: object(1)\n",
      "memory usage: 7.4+ KB\n"
     ]
    }
   ],
   "source": [
    "print('-------------------')\n",
    "print('Dataset content')\n",
    "print('-------------------')\n",
    "print(df.head())\n",
    "print('-------------------')\n",
    "# Some information about the data set\n",
    "print('Length of data set: ', len(df))\n",
    "print('Shape of data set: ', df.shape)\n",
=======
   "execution_count": 310,
   "metadata": {},
   "outputs": [],
   "source": [
    "# Get base path\n",
    "base_path  = os.getcwd()\n",
>>>>>>> b645388f9c7ddac0421169ffc0d79f24e2c5a761
    "\n",
    "# Set file path\n",
    "input_file_path = base_path + '\\\\RawDatasets\\\\'"
   ]
  },
  {
   "cell_type": "code",
<<<<<<< HEAD
   "execution_count": 4,
   "metadata": {},
   "outputs": [
    {
     "data": {
      "text/plain": [
       "0"
      ]
     },
     "execution_count": 4,
     "metadata": {},
     "output_type": "execute_result"
    }
   ],
   "source": [
    "# Check for null values - needs to be zero\n",
    "np.sum(df.isnull().any(axis=1))"
   ]
  },
  {
   "cell_type": "code",
   "execution_count": 5,
=======
   "execution_count": 311,
>>>>>>> b645388f9c7ddac0421169ffc0d79f24e2c5a761
   "metadata": {},
   "outputs": [
    {
     "data": {
      "text/html": [
       "<div>\n",
       "<style scoped>\n",
       "    .dataframe tbody tr th:only-of-type {\n",
       "        vertical-align: middle;\n",
       "    }\n",
       "\n",
       "    .dataframe tbody tr th {\n",
       "        vertical-align: top;\n",
       "    }\n",
       "\n",
       "    .dataframe thead th {\n",
       "        text-align: right;\n",
       "    }\n",
       "</style>\n",
       "<table border=\"1\" class=\"dataframe\">\n",
       "  <thead>\n",
       "    <tr style=\"text-align: right;\">\n",
       "      <th></th>\n",
       "      <th>date</th>\n",
       "      <th>content</th>\n",
       "    </tr>\n",
       "  </thead>\n",
       "  <tbody>\n",
       "    <tr>\n",
       "      <th>0</th>\n",
       "      <td>2022-09-09 21:41:27+00:00</td>\n",
       "      <td>I will never be able to wrap my head around Am...</td>\n",
       "    </tr>\n",
       "    <tr>\n",
       "      <th>1</th>\n",
       "      <td>2022-09-09 17:38:42+00:00</td>\n",
       "      <td>Sure, as an icon who people have looked toward...</td>\n",
       "    </tr>\n",
       "    <tr>\n",
       "      <th>2</th>\n",
       "      <td>2022-09-09 17:37:44+00:00</td>\n",
       "      <td>So Prince William will become the Prince of Wa...</td>\n",
       "    </tr>\n",
       "    <tr>\n",
       "      <th>3</th>\n",
       "      <td>2022-09-09 12:07:19+00:00</td>\n",
       "      <td>How Queen Elizabeth’s passing is affecting the...</td>\n",
       "    </tr>\n",
       "    <tr>\n",
       "      <th>4</th>\n",
       "      <td>2022-09-09 02:34:43+00:00</td>\n",
       "      <td>Tremendous respect for her dedication to the s...</td>\n",
       "    </tr>\n",
       "  </tbody>\n",
       "</table>\n",
       "</div>"
      ],
      "text/plain": [
       "                        date  \\\n",
       "0  2022-09-09 21:41:27+00:00   \n",
       "1  2022-09-09 17:38:42+00:00   \n",
       "2  2022-09-09 17:37:44+00:00   \n",
       "3  2022-09-09 12:07:19+00:00   \n",
       "4  2022-09-09 02:34:43+00:00   \n",
       "\n",
       "                                             content  \n",
       "0  I will never be able to wrap my head around Am...  \n",
       "1  Sure, as an icon who people have looked toward...  \n",
       "2  So Prince William will become the Prince of Wa...  \n",
       "3  How Queen Elizabeth’s passing is affecting the...  \n",
       "4  Tremendous respect for her dedication to the s...  "
      ]
     },
<<<<<<< HEAD
     "execution_count": 5,
=======
     "execution_count": 311,
     "metadata": {},
     "output_type": "execute_result"
    }
   ],
   "source": [
    "# Read the data set\n",
    "# countries = [canada, central, east, germany, india, ireland, nepal, pakistan, sweden, uk, uscentral, useast, uswest, west]\n",
    "df = pd.read_csv(input_file_path + 'tweets_canada.csv', usecols=['date', 'content'])\n",
    "df.columns = ['date', 'content']\n",
    "\n",
    "df.head()\n",
    "\n",
    "# df['Origin'] = 'southasia'"
   ]
  },
  {
   "cell_type": "code",
   "execution_count": 312,
   "metadata": {},
   "outputs": [
    {
     "name": "stdout",
     "output_type": "stream",
     "text": [
      "-------------------\n",
      "Dataset content\n",
      "-------------------\n",
      "                        date  \\\n",
      "0  2022-09-09 21:41:27+00:00   \n",
      "1  2022-09-09 17:38:42+00:00   \n",
      "2  2022-09-09 17:37:44+00:00   \n",
      "3  2022-09-09 12:07:19+00:00   \n",
      "4  2022-09-09 02:34:43+00:00   \n",
      "\n",
      "                                             content  \n",
      "0  I will never be able to wrap my head around Am...  \n",
      "1  Sure, as an icon who people have looked toward...  \n",
      "2  So Prince William will become the Prince of Wa...  \n",
      "3  How Queen Elizabeth’s passing is affecting the...  \n",
      "4  Tremendous respect for her dedication to the s...  \n",
      "-------------------\n",
      "Length of data set:  40\n",
      "Shape of data set:  (40, 2)\n",
      "-------------------\n",
      "Dataset information\n",
      "-------------------\n",
      "<class 'pandas.core.frame.DataFrame'>\n",
      "RangeIndex: 40 entries, 0 to 39\n",
      "Data columns (total 2 columns):\n",
      " #   Column   Non-Null Count  Dtype \n",
      "---  ------   --------------  ----- \n",
      " 0   date     40 non-null     object\n",
      " 1   content  40 non-null     object\n",
      "dtypes: object(2)\n",
      "memory usage: 768.0+ bytes\n"
     ]
    }
   ],
   "source": [
    "print('-------------------')\n",
    "print('Dataset content')\n",
    "print('-------------------')\n",
    "print(df.head())\n",
    "print('-------------------')\n",
    "# Some information about the data set\n",
    "print('Length of data set: ', len(df))\n",
    "print('Shape of data set: ', df.shape)\n",
    "\n",
    "print('-------------------')\n",
    "print('Dataset information')\n",
    "print('-------------------')\n",
    "df.info()"
   ]
  },
  {
   "cell_type": "code",
   "execution_count": 313,
   "metadata": {},
   "outputs": [
    {
     "data": {
      "text/plain": [
       "0"
      ]
     },
     "execution_count": 313,
     "metadata": {},
     "output_type": "execute_result"
    }
   ],
   "source": [
    "# Check for null values - needs to be zero\n",
    "np.sum(df.isnull().any(axis=1))"
   ]
  },
  {
   "cell_type": "code",
   "execution_count": 314,
   "metadata": {},
   "outputs": [
    {
     "data": {
      "text/html": [
       "<div>\n",
       "<style scoped>\n",
       "    .dataframe tbody tr th:only-of-type {\n",
       "        vertical-align: middle;\n",
       "    }\n",
       "\n",
       "    .dataframe tbody tr th {\n",
       "        vertical-align: top;\n",
       "    }\n",
       "\n",
       "    .dataframe thead th {\n",
       "        text-align: right;\n",
       "    }\n",
       "</style>\n",
       "<table border=\"1\" class=\"dataframe\">\n",
       "  <thead>\n",
       "    <tr style=\"text-align: right;\">\n",
       "      <th></th>\n",
       "      <th>date</th>\n",
       "      <th>content</th>\n",
       "    </tr>\n",
       "  </thead>\n",
       "  <tbody>\n",
       "    <tr>\n",
       "      <th>0</th>\n",
       "      <td>2022-09-09 21:41:27+00:00</td>\n",
       "      <td>i will never be able to wrap my head around am...</td>\n",
       "    </tr>\n",
       "    <tr>\n",
       "      <th>1</th>\n",
       "      <td>2022-09-09 17:38:42+00:00</td>\n",
       "      <td>sure, as an icon who people have looked toward...</td>\n",
       "    </tr>\n",
       "    <tr>\n",
       "      <th>2</th>\n",
       "      <td>2022-09-09 17:37:44+00:00</td>\n",
       "      <td>so prince william will become the prince of wa...</td>\n",
       "    </tr>\n",
       "    <tr>\n",
       "      <th>3</th>\n",
       "      <td>2022-09-09 12:07:19+00:00</td>\n",
       "      <td>how queen elizabeth’s passing is affecting the...</td>\n",
       "    </tr>\n",
       "    <tr>\n",
       "      <th>4</th>\n",
       "      <td>2022-09-09 02:34:43+00:00</td>\n",
       "      <td>tremendous respect for her dedication to the s...</td>\n",
       "    </tr>\n",
       "  </tbody>\n",
       "</table>\n",
       "</div>"
      ],
      "text/plain": [
       "                        date  \\\n",
       "0  2022-09-09 21:41:27+00:00   \n",
       "1  2022-09-09 17:38:42+00:00   \n",
       "2  2022-09-09 17:37:44+00:00   \n",
       "3  2022-09-09 12:07:19+00:00   \n",
       "4  2022-09-09 02:34:43+00:00   \n",
       "\n",
       "                                             content  \n",
       "0  i will never be able to wrap my head around am...  \n",
       "1  sure, as an icon who people have looked toward...  \n",
       "2  so prince william will become the prince of wa...  \n",
       "3  how queen elizabeth’s passing is affecting the...  \n",
       "4  tremendous respect for her dedication to the s...  "
      ]
     },
     "execution_count": 314,
>>>>>>> b645388f9c7ddac0421169ffc0d79f24e2c5a761
     "metadata": {},
     "output_type": "execute_result"
    }
   ],
   "source": [
    "# 1. Converting all text to lower case\n",
    "def convert_to_lower_case(data_set):\n",
    "    data_set['content'] = data_set['content'].str.lower()\n",
    "\n",
    "convert_to_lower_case(df)\n",
    "df.head()"
   ]
  },
  {
   "cell_type": "code",
<<<<<<< HEAD
   "execution_count": 53,
=======
   "execution_count": 315,
>>>>>>> b645388f9c7ddac0421169ffc0d79f24e2c5a761
   "metadata": {},
   "outputs": [
    {
     "name": "stdout",
     "output_type": "stream",
     "text": [
      "Stop word list:\n",
      "----------------\n",
      "{'how', 'its', 'doing', 'did', 'ain', 'whom', 'do', 'having', 'a', \"needn't\", 'such', 'can', 'are', 'into', 're', \"you'd\", 'where', 'but', 'we', \"shouldn't\", 'other', 'all', 'hasn', 'won', 'mightn', 'mustn', 'with', 'themselves', 've', 'hadn', 'further', 'd', 'both', \"don't\", 'wasn', 'it', 'down', 'because', 'nor', 'he', 'she', 'off', 'then', \"weren't\", 'll', 'some', 'too', 'her', 'aren', 'below', 'before', 'shan', 'ours', 'so', \"should've\", 'weren', 'once', 'our', 'wouldn', \"you've\", 'your', 'that', 'couldn', 'been', 'after', 'as', 'when', 'own', 's', 'herself', 'is', 'and', 'hers', 'o', 'haven', \"wouldn't\", 'himself', 'isn', \"wasn't\", 'under', \"mightn't\", 'should', 'has', 'during', 'while', \"didn't\", \"you'll\", 'what', 'about', 'who', 'until', 'now', 'just', 'these', 'from', 'them', 'above', 'was', \"won't\", 'or', 'each', 'why', 'on', 'be', 'am', \"it's\", 'had', 'you', 'him', 'to', \"she's\", \"aren't\", 'here', \"that'll\", 'does', 'yours', 'which', \"hasn't\", 'against', 'the', \"mustn't\", 'they', 'm', 'same', 'yourselves', 'those', 'out', 'will', 'y', \"shan't\", 'than', 'me', 'again', 'few', 'don', 'were', 'their', \"couldn't\", 'have', 'theirs', 'for', 'over', \"haven't\", \"you're\", 'at', 'his', 'yourself', 'there', 'being', \"isn't\", 't', 'only', 'an', 'i', 'myself', 'any', 'no', \"doesn't\", 'most', 'by', 'very', 'if', 'more', 'itself', 'didn', 'doesn', 'not', 'up', 'in', 'this', 'ourselves', 'of', 'ma', 'needn', 'through', 'my', \"hadn't\", 'shouldn', 'between'}\n"
     ]
    },
    {
     "data": {
      "text/html": [
       "<div>\n",
       "<style scoped>\n",
       "    .dataframe tbody tr th:only-of-type {\n",
       "        vertical-align: middle;\n",
       "    }\n",
       "\n",
       "    .dataframe tbody tr th {\n",
       "        vertical-align: top;\n",
       "    }\n",
       "\n",
       "    .dataframe thead th {\n",
       "        text-align: right;\n",
       "    }\n",
       "</style>\n",
       "<table border=\"1\" class=\"dataframe\">\n",
       "  <thead>\n",
       "    <tr style=\"text-align: right;\">\n",
       "      <th></th>\n",
       "      <th>date</th>\n",
       "      <th>content</th>\n",
       "    </tr>\n",
       "  </thead>\n",
       "  <tbody>\n",
       "    <tr>\n",
       "      <th>0</th>\n",
       "      <td>2022-09-09 21:41:27+00:00</td>\n",
       "      <td>never able wrap head around americans love bri...</td>\n",
       "    </tr>\n",
       "    <tr>\n",
       "      <th>1</th>\n",
       "      <td>2022-09-09 17:38:42+00:00</td>\n",
       "      <td>sure, icon people looked towards comfort (à la...</td>\n",
       "    </tr>\n",
       "    <tr>\n",
       "      <th>2</th>\n",
       "      <td>2022-09-09 17:37:44+00:00</td>\n",
       "      <td>prince william become prince wales… last year,...</td>\n",
       "    </tr>\n",
       "    <tr>\n",
       "      <th>3</th>\n",
       "      <td>2022-09-09 12:07:19+00:00</td>\n",
       "      <td>queen elizabeth’s passing affecting media ad i...</td>\n",
       "    </tr>\n",
       "    <tr>\n",
       "      <th>4</th>\n",
       "      <td>2022-09-09 02:34:43+00:00</td>\n",
       "      <td>tremendous respect dedication service commonwe...</td>\n",
       "    </tr>\n",
       "  </tbody>\n",
       "</table>\n",
       "</div>"
      ],
      "text/plain": [
       "                        date  \\\n",
       "0  2022-09-09 21:41:27+00:00   \n",
       "1  2022-09-09 17:38:42+00:00   \n",
       "2  2022-09-09 17:37:44+00:00   \n",
       "3  2022-09-09 12:07:19+00:00   \n",
       "4  2022-09-09 02:34:43+00:00   \n",
       "\n",
       "                                             content  \n",
       "0  never able wrap head around americans love bri...  \n",
       "1  sure, icon people looked towards comfort (à la...  \n",
       "2  prince william become prince wales… last year,...  \n",
       "3  queen elizabeth’s passing affecting media ad i...  \n",
       "4  tremendous respect dedication service commonwe...  "
      ]
     },
<<<<<<< HEAD
     "execution_count": 53,
=======
     "execution_count": 315,
>>>>>>> b645388f9c7ddac0421169ffc0d79f24e2c5a761
     "metadata": {},
     "output_type": "execute_result"
    }
   ],
   "source": [
    "# 2. Removing stop words (un-necessary words) - using nltk's pre-defined stop words\n",
    "STOP_WORDS = set(stopwords.words('english'))\n",
    "print('Stop word list:')\n",
    "print('----------------')\n",
    "print(STOP_WORDS)\n",
    "\n",
    "def remove_stop_words(content):\n",
    "   return \" \".join([text for text in str(content).split() if text not in STOP_WORDS])\n",
    "\n",
    "df['content'] = df['content'].apply(lambda content: remove_stop_words(content=content))\n",
    "df.head()"
   ]
  },
  {
   "cell_type": "code",
<<<<<<< HEAD
   "execution_count": 54,
=======
   "execution_count": 316,
>>>>>>> b645388f9c7ddac0421169ffc0d79f24e2c5a761
   "metadata": {},
   "outputs": [
    {
     "data": {
      "text/html": [
       "<div>\n",
       "<style scoped>\n",
       "    .dataframe tbody tr th:only-of-type {\n",
       "        vertical-align: middle;\n",
       "    }\n",
       "\n",
       "    .dataframe tbody tr th {\n",
       "        vertical-align: top;\n",
       "    }\n",
       "\n",
       "    .dataframe thead th {\n",
       "        text-align: right;\n",
       "    }\n",
       "</style>\n",
       "<table border=\"1\" class=\"dataframe\">\n",
       "  <thead>\n",
       "    <tr style=\"text-align: right;\">\n",
       "      <th></th>\n",
       "      <th>date</th>\n",
       "      <th>content</th>\n",
       "    </tr>\n",
       "  </thead>\n",
       "  <tbody>\n",
       "    <tr>\n",
       "      <th>0</th>\n",
       "      <td>2022-09-09 21:41:27+00:00</td>\n",
       "      <td>never able wrap head around americans love bri...</td>\n",
       "    </tr>\n",
       "    <tr>\n",
       "      <th>1</th>\n",
       "      <td>2022-09-09 17:38:42+00:00</td>\n",
       "      <td>sure, icon people looked towards comfort (à la...</td>\n",
       "    </tr>\n",
       "    <tr>\n",
       "      <th>2</th>\n",
       "      <td>2022-09-09 17:37:44+00:00</td>\n",
       "      <td>prince william become prince wales… last year,...</td>\n",
       "    </tr>\n",
       "    <tr>\n",
       "      <th>3</th>\n",
       "      <td>2022-09-09 12:07:19+00:00</td>\n",
       "      <td>queen elizabeth’s passing affecting media ad i...</td>\n",
       "    </tr>\n",
       "    <tr>\n",
       "      <th>4</th>\n",
       "      <td>2022-09-09 02:34:43+00:00</td>\n",
       "      <td>tremendous respect dedication service commonwe...</td>\n",
       "    </tr>\n",
       "  </tbody>\n",
       "</table>\n",
       "</div>"
      ],
      "text/plain": [
       "                        date  \\\n",
       "0  2022-09-09 21:41:27+00:00   \n",
       "1  2022-09-09 17:38:42+00:00   \n",
       "2  2022-09-09 17:37:44+00:00   \n",
       "3  2022-09-09 12:07:19+00:00   \n",
       "4  2022-09-09 02:34:43+00:00   \n",
       "\n",
       "                                             content  \n",
       "0  never able wrap head around americans love bri...  \n",
       "1  sure, icon people looked towards comfort (à la...  \n",
       "2  prince william become prince wales… last year,...  \n",
       "3  queen elizabeth’s passing affecting media ad i...  \n",
       "4  tremendous respect dedication service commonwe...  "
      ]
     },
<<<<<<< HEAD
     "execution_count": 54,
=======
     "execution_count": 316,
>>>>>>> b645388f9c7ddac0421169ffc0d79f24e2c5a761
     "metadata": {},
     "output_type": "execute_result"
    }
   ],
   "source": [
    "# 3. Removing URLs\n",
    "def remove_URLS(content):\n",
    "    return re.sub('((www.\\S+)|(http[s]?://\\S+))',' ', str(content))\n",
    "\n",
    "df['content'] = df['content'].apply(lambda content: remove_URLS(content=content))\n",
    "#df['content'].head()\n",
    "df.head()"
   ]
  },
  {
   "cell_type": "code",
<<<<<<< HEAD
   "execution_count": 55,
=======
   "execution_count": 317,
>>>>>>> b645388f9c7ddac0421169ffc0d79f24e2c5a761
   "metadata": {},
   "outputs": [
    {
     "data": {
      "text/html": [
       "<div>\n",
       "<style scoped>\n",
       "    .dataframe tbody tr th:only-of-type {\n",
       "        vertical-align: middle;\n",
       "    }\n",
       "\n",
       "    .dataframe tbody tr th {\n",
       "        vertical-align: top;\n",
       "    }\n",
       "\n",
       "    .dataframe thead th {\n",
       "        text-align: right;\n",
       "    }\n",
       "</style>\n",
       "<table border=\"1\" class=\"dataframe\">\n",
       "  <thead>\n",
       "    <tr style=\"text-align: right;\">\n",
       "      <th></th>\n",
       "      <th>date</th>\n",
       "      <th>content</th>\n",
       "    </tr>\n",
       "  </thead>\n",
       "  <tbody>\n",
       "    <tr>\n",
       "      <th>0</th>\n",
       "      <td>2022-09-09 21:41:27+00:00</td>\n",
       "      <td>never able wrap head around americans love bri...</td>\n",
       "    </tr>\n",
       "    <tr>\n",
       "      <th>1</th>\n",
       "      <td>2022-09-09 17:38:42+00:00</td>\n",
       "      <td>sure, icon people looked towards comfort (à la...</td>\n",
       "    </tr>\n",
       "    <tr>\n",
       "      <th>2</th>\n",
       "      <td>2022-09-09 17:37:44+00:00</td>\n",
       "      <td>prince william become prince wales… last year,...</td>\n",
       "    </tr>\n",
       "    <tr>\n",
       "      <th>3</th>\n",
       "      <td>2022-09-09 12:07:19+00:00</td>\n",
       "      <td>queen elizabeth’s passing affecting media ad i...</td>\n",
       "    </tr>\n",
       "    <tr>\n",
       "      <th>4</th>\n",
       "      <td>2022-09-09 02:34:43+00:00</td>\n",
       "      <td>tremendous respect dedication service commonwe...</td>\n",
       "    </tr>\n",
       "  </tbody>\n",
       "</table>\n",
       "</div>"
      ],
      "text/plain": [
       "                        date  \\\n",
       "0  2022-09-09 21:41:27+00:00   \n",
       "1  2022-09-09 17:38:42+00:00   \n",
       "2  2022-09-09 17:37:44+00:00   \n",
       "3  2022-09-09 12:07:19+00:00   \n",
       "4  2022-09-09 02:34:43+00:00   \n",
       "\n",
       "                                             content  \n",
       "0  never able wrap head around americans love bri...  \n",
       "1  sure, icon people looked towards comfort (à la...  \n",
       "2  prince william become prince wales… last year,...  \n",
       "3  queen elizabeth’s passing affecting media ad i...  \n",
       "4  tremendous respect dedication service commonwe...  "
      ]
     },
<<<<<<< HEAD
     "execution_count": 55,
=======
     "execution_count": 317,
>>>>>>> b645388f9c7ddac0421169ffc0d79f24e2c5a761
     "metadata": {},
     "output_type": "execute_result"
    }
   ],
   "source": [
    "# 4. Removing @mentions\n",
    "def remove_mentions(content):\n",
    "    return re.sub('(@\\S+)',' ', str(content))\n",
    "\n",
    "df['content'] = df['content'].apply(lambda content: remove_mentions(content=content))\n",
    "#df['content'].head()\n",
    "df.head()"
   ]
  },
  {
   "cell_type": "code",
<<<<<<< HEAD
   "execution_count": 56,
=======
   "execution_count": 318,
>>>>>>> b645388f9c7ddac0421169ffc0d79f24e2c5a761
   "metadata": {},
   "outputs": [
    {
     "data": {
      "text/html": [
       "<div>\n",
       "<style scoped>\n",
       "    .dataframe tbody tr th:only-of-type {\n",
       "        vertical-align: middle;\n",
       "    }\n",
       "\n",
       "    .dataframe tbody tr th {\n",
       "        vertical-align: top;\n",
       "    }\n",
       "\n",
       "    .dataframe thead th {\n",
       "        text-align: right;\n",
       "    }\n",
       "</style>\n",
       "<table border=\"1\" class=\"dataframe\">\n",
       "  <thead>\n",
       "    <tr style=\"text-align: right;\">\n",
       "      <th></th>\n",
       "      <th>date</th>\n",
       "      <th>content</th>\n",
       "    </tr>\n",
       "  </thead>\n",
       "  <tbody>\n",
       "    <tr>\n",
       "      <th>0</th>\n",
       "      <td>2022-09-09 21:41:27+00:00</td>\n",
       "      <td>never able wrap head around americans love bri...</td>\n",
       "    </tr>\n",
       "    <tr>\n",
       "      <th>1</th>\n",
       "      <td>2022-09-09 17:38:42+00:00</td>\n",
       "      <td>sure, icon people looked towards comfort (à la...</td>\n",
       "    </tr>\n",
       "    <tr>\n",
       "      <th>2</th>\n",
       "      <td>2022-09-09 17:37:44+00:00</td>\n",
       "      <td>prince william become prince wales… last year,...</td>\n",
       "    </tr>\n",
       "    <tr>\n",
       "      <th>3</th>\n",
       "      <td>2022-09-09 12:07:19+00:00</td>\n",
       "      <td>queen elizabeth’s passing affecting media ad i...</td>\n",
       "    </tr>\n",
       "    <tr>\n",
       "      <th>4</th>\n",
       "      <td>2022-09-09 02:34:43+00:00</td>\n",
       "      <td>tremendous respect dedication service commonwe...</td>\n",
       "    </tr>\n",
       "  </tbody>\n",
       "</table>\n",
       "</div>"
      ],
      "text/plain": [
       "                        date  \\\n",
       "0  2022-09-09 21:41:27+00:00   \n",
       "1  2022-09-09 17:38:42+00:00   \n",
       "2  2022-09-09 17:37:44+00:00   \n",
       "3  2022-09-09 12:07:19+00:00   \n",
       "4  2022-09-09 02:34:43+00:00   \n",
       "\n",
       "                                             content  \n",
       "0  never able wrap head around americans love bri...  \n",
       "1  sure, icon people looked towards comfort (à la...  \n",
       "2  prince william become prince wales… last year,...  \n",
       "3  queen elizabeth’s passing affecting media ad i...  \n",
       "4  tremendous respect dedication service commonwe...  "
      ]
     },
<<<<<<< HEAD
     "execution_count": 56,
=======
     "execution_count": 318,
>>>>>>> b645388f9c7ddac0421169ffc0d79f24e2c5a761
     "metadata": {},
     "output_type": "execute_result"
    }
   ],
   "source": [
    "# 5. Removing numbers\n",
    "def remove_numericals(content):\n",
    "        return re.sub('[0-9]+', '', content)\n",
    "\n",
    "df['content'] = df['content'].apply(lambda content: remove_numericals(content=content))\n",
    "#df['content'].head()\n",
    "df.head()"
   ]
  },
  {
   "cell_type": "code",
<<<<<<< HEAD
   "execution_count": 57,
=======
   "execution_count": 319,
>>>>>>> b645388f9c7ddac0421169ffc0d79f24e2c5a761
   "metadata": {},
   "outputs": [
    {
     "name": "stdout",
     "output_type": "stream",
     "text": [
      "Punctuation list:\n",
      "------------------\n",
      "!\"#$%&'()*+,-./:;<=>?@[\\]^_`{|}~\n"
     ]
    },
    {
     "data": {
      "text/html": [
       "<div>\n",
       "<style scoped>\n",
       "    .dataframe tbody tr th:only-of-type {\n",
       "        vertical-align: middle;\n",
       "    }\n",
       "\n",
       "    .dataframe tbody tr th {\n",
       "        vertical-align: top;\n",
       "    }\n",
       "\n",
       "    .dataframe thead th {\n",
       "        text-align: right;\n",
       "    }\n",
       "</style>\n",
       "<table border=\"1\" class=\"dataframe\">\n",
       "  <thead>\n",
       "    <tr style=\"text-align: right;\">\n",
       "      <th></th>\n",
       "      <th>date</th>\n",
       "      <th>content</th>\n",
       "    </tr>\n",
       "  </thead>\n",
       "  <tbody>\n",
       "    <tr>\n",
       "      <th>0</th>\n",
       "      <td>2022-09-09 21:41:27+00:00</td>\n",
       "      <td>never able wrap head around americans love bri...</td>\n",
       "    </tr>\n",
       "    <tr>\n",
       "      <th>1</th>\n",
       "      <td>2022-09-09 17:38:42+00:00</td>\n",
       "      <td>sure icon people looked towards comfort à la r...</td>\n",
       "    </tr>\n",
       "    <tr>\n",
       "      <th>2</th>\n",
       "      <td>2022-09-09 17:37:44+00:00</td>\n",
       "      <td>prince william become prince wales… last year ...</td>\n",
       "    </tr>\n",
       "    <tr>\n",
       "      <th>3</th>\n",
       "      <td>2022-09-09 12:07:19+00:00</td>\n",
       "      <td>queen elizabeth’s passing affecting media ad i...</td>\n",
       "    </tr>\n",
       "    <tr>\n",
       "      <th>4</th>\n",
       "      <td>2022-09-09 02:34:43+00:00</td>\n",
       "      <td>tremendous respect dedication service commonwe...</td>\n",
       "    </tr>\n",
       "  </tbody>\n",
       "</table>\n",
       "</div>"
      ],
      "text/plain": [
       "                        date  \\\n",
       "0  2022-09-09 21:41:27+00:00   \n",
       "1  2022-09-09 17:38:42+00:00   \n",
       "2  2022-09-09 17:37:44+00:00   \n",
       "3  2022-09-09 12:07:19+00:00   \n",
       "4  2022-09-09 02:34:43+00:00   \n",
       "\n",
       "                                             content  \n",
       "0  never able wrap head around americans love bri...  \n",
       "1  sure icon people looked towards comfort à la r...  \n",
       "2  prince william become prince wales… last year ...  \n",
       "3  queen elizabeth’s passing affecting media ad i...  \n",
       "4  tremendous respect dedication service commonwe...  "
      ]
     },
<<<<<<< HEAD
     "execution_count": 57,
=======
     "execution_count": 319,
>>>>>>> b645388f9c7ddac0421169ffc0d79f24e2c5a761
     "metadata": {},
     "output_type": "execute_result"
    }
   ],
   "source": [
    "# 6. Removing punctuations\n",
    "PUNCTUATIONS = string.punctuation\n",
    "print('Punctuation list:')\n",
    "print('------------------')\n",
    "print(PUNCTUATIONS)\n",
    "\n",
    "def remove_punctuations(content):\n",
    "    return str(content).translate(str.maketrans('', '', PUNCTUATIONS))\n",
    "\n",
    "df['content'] = df['content'].apply(lambda content: remove_punctuations(content=content))\n",
    "# df['content'].head()\n",
    "df.head()"
   ]
  },
  {
   "cell_type": "code",
<<<<<<< HEAD
   "execution_count": 58,
=======
   "execution_count": 320,
   "metadata": {},
   "outputs": [
    {
     "data": {
      "text/plain": [
       "0    never able wrap head around americans love bri...\n",
       "1    sure icon people looked towards comfort  la ro...\n",
       "2    prince william become prince wales last year h...\n",
       "3    queen elizabeths passing affecting media ad in...\n",
       "4    tremendous respect dedication service commonwe...\n",
       "Name: content, dtype: object"
      ]
     },
     "execution_count": 320,
     "metadata": {},
     "output_type": "execute_result"
    }
   ],
   "source": [
    "# Remove unicodes\n",
    "def remove_unicodes(content):\n",
    "        return str(content).encode('ascii', errors='ignore').decode()\n",
    "\n",
    "df['content'] = df['content'].apply(lambda content: remove_unicodes(content=content))\n",
    "df['content'].head()\n"
   ]
  },
  {
   "cell_type": "code",
   "execution_count": 321,
>>>>>>> b645388f9c7ddac0421169ffc0d79f24e2c5a761
   "metadata": {},
   "outputs": [],
   "source": [
    "# df[df.colA.map(lambda x: x.isascii())]\n",
    "\n",
    "df1=df.copy()\n",
    "# df1['DB_user'].str.encode('ascii', 'ignore').str.decode('ascii')\n",
    "# df1['new'] = df1['content'].apply(lambda content: content.encode('ascii', 'ignore').str.decode('ascii'))\n",
    "# df1.head()\n"
   ]
  },
  {
   "cell_type": "code",
<<<<<<< HEAD
   "execution_count": 59,
=======
   "execution_count": 322,
>>>>>>> b645388f9c7ddac0421169ffc0d79f24e2c5a761
   "metadata": {},
   "outputs": [
    {
     "data": {
      "text/html": [
       "<div>\n",
       "<style scoped>\n",
       "    .dataframe tbody tr th:only-of-type {\n",
       "        vertical-align: middle;\n",
       "    }\n",
       "\n",
       "    .dataframe tbody tr th {\n",
       "        vertical-align: top;\n",
       "    }\n",
       "\n",
       "    .dataframe thead th {\n",
       "        text-align: right;\n",
       "    }\n",
       "</style>\n",
       "<table border=\"1\" class=\"dataframe\">\n",
       "  <thead>\n",
       "    <tr style=\"text-align: right;\">\n",
       "      <th></th>\n",
       "      <th>date</th>\n",
       "      <th>content</th>\n",
       "    </tr>\n",
       "  </thead>\n",
       "  <tbody>\n",
       "    <tr>\n",
       "      <th>0</th>\n",
       "      <td>2022-09-09 21:41:27+00:00</td>\n",
       "      <td>never able wrap head around americans love bri...</td>\n",
       "    </tr>\n",
       "    <tr>\n",
       "      <th>1</th>\n",
       "      <td>2022-09-09 17:38:42+00:00</td>\n",
       "      <td>sure icon people looked towards comfort rosa p...</td>\n",
       "    </tr>\n",
       "    <tr>\n",
       "      <th>2</th>\n",
       "      <td>2022-09-09 17:37:44+00:00</td>\n",
       "      <td>prince william become prince wales last year h...</td>\n",
       "    </tr>\n",
       "    <tr>\n",
       "      <th>3</th>\n",
       "      <td>2022-09-09 12:07:19+00:00</td>\n",
       "      <td>queen elizabeths passing affecting media indus...</td>\n",
       "    </tr>\n",
       "    <tr>\n",
       "      <th>4</th>\n",
       "      <td>2022-09-09 02:34:43+00:00</td>\n",
       "      <td>tremendous respect dedication service commonwe...</td>\n",
       "    </tr>\n",
       "  </tbody>\n",
       "</table>\n",
       "</div>"
      ],
      "text/plain": [
       "                        date  \\\n",
       "0  2022-09-09 21:41:27+00:00   \n",
       "1  2022-09-09 17:38:42+00:00   \n",
       "2  2022-09-09 17:37:44+00:00   \n",
       "3  2022-09-09 12:07:19+00:00   \n",
       "4  2022-09-09 02:34:43+00:00   \n",
       "\n",
       "                                             content  \n",
       "0  never able wrap head around americans love bri...  \n",
       "1  sure icon people looked towards comfort rosa p...  \n",
       "2  prince william become prince wales last year h...  \n",
       "3  queen elizabeths passing affecting media indus...  \n",
       "4  tremendous respect dedication service commonwe...  "
      ]
     },
<<<<<<< HEAD
     "execution_count": 59,
=======
     "execution_count": 322,
>>>>>>> b645388f9c7ddac0421169ffc0d79f24e2c5a761
     "metadata": {},
     "output_type": "execute_result"
    }
   ],
   "source": [
    "# 7. Removing 2 letter random words, as it gives no meaning\n",
    "def remove_2letter_words(content):\n",
    "    w = re.sub(r'\\b\\w{1,2}\\b', '', content)\n",
    "    return re.sub(' +', ' ', w)\n",
    "\n",
    "df['content'] = df['content'].apply(lambda content: remove_2letter_words(content=content))\n",
    "df.head()"
   ]
  },
  {
   "cell_type": "code",
<<<<<<< HEAD
   "execution_count": 60,
=======
   "execution_count": 323,
>>>>>>> b645388f9c7ddac0421169ffc0d79f24e2c5a761
   "metadata": {},
   "outputs": [
    {
     "data": {
      "text/html": [
       "<div>\n",
       "<style scoped>\n",
       "    .dataframe tbody tr th:only-of-type {\n",
       "        vertical-align: middle;\n",
       "    }\n",
       "\n",
       "    .dataframe tbody tr th {\n",
       "        vertical-align: top;\n",
       "    }\n",
       "\n",
       "    .dataframe thead th {\n",
       "        text-align: right;\n",
       "    }\n",
       "</style>\n",
       "<table border=\"1\" class=\"dataframe\">\n",
       "  <thead>\n",
       "    <tr style=\"text-align: right;\">\n",
       "      <th></th>\n",
       "      <th>date</th>\n",
       "      <th>content</th>\n",
       "    </tr>\n",
       "  </thead>\n",
       "  <tbody>\n",
       "    <tr>\n",
       "      <th>0</th>\n",
       "      <td>2022-09-09 21:41:27+00:00</td>\n",
       "      <td>never able wrap head around americans love bri...</td>\n",
       "    </tr>\n",
       "    <tr>\n",
       "      <th>1</th>\n",
       "      <td>2022-09-09 17:38:42+00:00</td>\n",
       "      <td>sure icon people looked towards comfort rosa p...</td>\n",
       "    </tr>\n",
       "    <tr>\n",
       "      <th>2</th>\n",
       "      <td>2022-09-09 17:37:44+00:00</td>\n",
       "      <td>prince william become prince wales last year h...</td>\n",
       "    </tr>\n",
       "    <tr>\n",
       "      <th>3</th>\n",
       "      <td>2022-09-09 12:07:19+00:00</td>\n",
       "      <td>queen elizabeths passing affecting media indus...</td>\n",
       "    </tr>\n",
       "    <tr>\n",
       "      <th>4</th>\n",
       "      <td>2022-09-09 02:34:43+00:00</td>\n",
       "      <td>tremendous respect dedication service commonwe...</td>\n",
       "    </tr>\n",
       "  </tbody>\n",
       "</table>\n",
       "</div>"
      ],
      "text/plain": [
       "                        date  \\\n",
       "0  2022-09-09 21:41:27+00:00   \n",
       "1  2022-09-09 17:38:42+00:00   \n",
       "2  2022-09-09 17:37:44+00:00   \n",
       "3  2022-09-09 12:07:19+00:00   \n",
       "4  2022-09-09 02:34:43+00:00   \n",
       "\n",
       "                                             content  \n",
       "0  never able wrap head around americans love bri...  \n",
       "1  sure icon people looked towards comfort rosa p...  \n",
       "2  prince william become prince wales last year h...  \n",
       "3  queen elizabeths passing affecting media indus...  \n",
       "4  tremendous respect dedication service commonwe...  "
      ]
     },
<<<<<<< HEAD
     "execution_count": 60,
=======
     "execution_count": 323,
>>>>>>> b645388f9c7ddac0421169ffc0d79f24e2c5a761
     "metadata": {},
     "output_type": "execute_result"
    }
   ],
   "source": [
    "# 8. convert emoji to text\n",
    "def emoji_convert(content):\n",
    "    return kp_all_emoji_emoticons.replace_keywords(content)\n",
    "\n",
    "from emot.emo_unicode import UNICODE_EMOJI, UNICODE_EMOJI_ALIAS, EMOTICONS_EMO\n",
    "from flashtext import KeywordProcessor\n",
    "all_emoji_emoticons = {**EMOTICONS_EMO,**UNICODE_EMOJI_ALIAS, **UNICODE_EMOJI_ALIAS}\n",
    "all_emoji_emoticons = {k:v.replace(\":\",\"\").replace(\"_\",\" \").strip() for k,v in all_emoji_emoticons.items()}\n",
    "kp_all_emoji_emoticons = KeywordProcessor()\n",
    "for k,v in all_emoji_emoticons.items():\n",
    "    kp_all_emoji_emoticons.add_keyword(k, v)\n",
    "\n",
    "df['content'] = df['content'].apply(lambda content: emoji_convert(content=content))\n",
    "\n",
    "df.head()"
   ]
  },
  {
   "cell_type": "code",
<<<<<<< HEAD
   "execution_count": 61,
=======
   "execution_count": 324,
>>>>>>> b645388f9c7ddac0421169ffc0d79f24e2c5a761
   "metadata": {},
   "outputs": [
    {
     "data": {
      "text/html": [
       "<div>\n",
       "<style scoped>\n",
       "    .dataframe tbody tr th:only-of-type {\n",
       "        vertical-align: middle;\n",
       "    }\n",
       "\n",
       "    .dataframe tbody tr th {\n",
       "        vertical-align: top;\n",
       "    }\n",
       "\n",
       "    .dataframe thead th {\n",
       "        text-align: right;\n",
       "    }\n",
       "</style>\n",
       "<table border=\"1\" class=\"dataframe\">\n",
       "  <thead>\n",
       "    <tr style=\"text-align: right;\">\n",
       "      <th></th>\n",
       "      <th>date</th>\n",
       "      <th>content</th>\n",
       "    </tr>\n",
       "  </thead>\n",
       "  <tbody>\n",
       "    <tr>\n",
       "      <th>0</th>\n",
       "      <td>2022-09-09 21:41:27+00:00</td>\n",
       "      <td>never able wrap head around americans love bri...</td>\n",
       "    </tr>\n",
       "    <tr>\n",
       "      <th>1</th>\n",
       "      <td>2022-09-09 17:38:42+00:00</td>\n",
       "      <td>sure icon people looked towards comfort rosa p...</td>\n",
       "    </tr>\n",
       "    <tr>\n",
       "      <th>2</th>\n",
       "      <td>2022-09-09 17:37:44+00:00</td>\n",
       "      <td>prince william become prince wales last year h...</td>\n",
       "    </tr>\n",
       "    <tr>\n",
       "      <th>3</th>\n",
       "      <td>2022-09-09 12:07:19+00:00</td>\n",
       "      <td>queen elizabeths passing affecting media indus...</td>\n",
       "    </tr>\n",
       "    <tr>\n",
       "      <th>4</th>\n",
       "      <td>2022-09-09 02:34:43+00:00</td>\n",
       "      <td>tremendous respect dedication service commonwe...</td>\n",
       "    </tr>\n",
       "  </tbody>\n",
       "</table>\n",
       "</div>"
      ],
      "text/plain": [
       "                        date  \\\n",
       "0  2022-09-09 21:41:27+00:00   \n",
       "1  2022-09-09 17:38:42+00:00   \n",
       "2  2022-09-09 17:37:44+00:00   \n",
       "3  2022-09-09 12:07:19+00:00   \n",
       "4  2022-09-09 02:34:43+00:00   \n",
       "\n",
       "                                             content  \n",
       "0  never able wrap head around americans love bri...  \n",
       "1  sure icon people looked towards comfort rosa p...  \n",
       "2  prince william become prince wales last year h...  \n",
       "3  queen elizabeths passing affecting media indus...  \n",
       "4  tremendous respect dedication service commonwe...  "
      ]
     },
<<<<<<< HEAD
     "execution_count": 61,
=======
     "execution_count": 324,
>>>>>>> b645388f9c7ddac0421169ffc0d79f24e2c5a761
     "metadata": {},
     "output_type": "execute_result"
    }
   ],
   "source": [
    "# 9. Remove unwanted emojis\n",
    "df['content'] = df['content'].apply(lambda content: clean(str(content), no_emoji=True))\n",
    "df.head()"
   ]
  },
  {
   "cell_type": "code",
<<<<<<< HEAD
   "execution_count": 62,
=======
   "execution_count": 325,
>>>>>>> b645388f9c7ddac0421169ffc0d79f24e2c5a761
   "metadata": {},
   "outputs": [
    {
     "name": "stderr",
     "output_type": "stream",
     "text": [
      "[nltk_data] Downloading package words to\n",
      "[nltk_data]     C:\\Users\\sureshv\\AppData\\Roaming\\nltk_data...\n",
      "[nltk_data]   Package words is already up-to-date!\n"
     ]
    },
    {
     "data": {
      "text/html": [
       "<div>\n",
       "<style scoped>\n",
       "    .dataframe tbody tr th:only-of-type {\n",
       "        vertical-align: middle;\n",
       "    }\n",
       "\n",
       "    .dataframe tbody tr th {\n",
       "        vertical-align: top;\n",
       "    }\n",
       "\n",
       "    .dataframe thead th {\n",
       "        text-align: right;\n",
       "    }\n",
       "</style>\n",
       "<table border=\"1\" class=\"dataframe\">\n",
       "  <thead>\n",
       "    <tr style=\"text-align: right;\">\n",
       "      <th></th>\n",
       "      <th>date</th>\n",
       "      <th>content</th>\n",
       "    </tr>\n",
       "  </thead>\n",
       "  <tbody>\n",
       "    <tr>\n",
       "      <th>0</th>\n",
       "      <td>2022-09-09 21:41:27+00:00</td>\n",
       "      <td>never able wrap head around americans love bri...</td>\n",
       "    </tr>\n",
       "    <tr>\n",
       "      <th>1</th>\n",
       "      <td>2022-09-09 17:38:42+00:00</td>\n",
       "      <td>sure icon people looked towards comfort rosa p...</td>\n",
       "    </tr>\n",
       "    <tr>\n",
       "      <th>2</th>\n",
       "      <td>2022-09-09 17:37:44+00:00</td>\n",
       "      <td>prince william become prince wales last year h...</td>\n",
       "    </tr>\n",
       "    <tr>\n",
       "      <th>3</th>\n",
       "      <td>2022-09-09 12:07:19+00:00</td>\n",
       "      <td>queen elizabeths passing affecting media indus...</td>\n",
       "    </tr>\n",
       "    <tr>\n",
       "      <th>4</th>\n",
       "      <td>2022-09-09 02:34:43+00:00</td>\n",
       "      <td>tremendous respect dedication service commonwe...</td>\n",
       "    </tr>\n",
       "  </tbody>\n",
       "</table>\n",
       "</div>"
      ],
      "text/plain": [
       "                        date  \\\n",
       "0  2022-09-09 21:41:27+00:00   \n",
       "1  2022-09-09 17:38:42+00:00   \n",
       "2  2022-09-09 17:37:44+00:00   \n",
       "3  2022-09-09 12:07:19+00:00   \n",
       "4  2022-09-09 02:34:43+00:00   \n",
       "\n",
       "                                             content  \n",
       "0  never able wrap head around americans love bri...  \n",
       "1  sure icon people looked towards comfort rosa p...  \n",
       "2  prince william become prince wales last year h...  \n",
       "3  queen elizabeths passing affecting media indus...  \n",
       "4  tremendous respect dedication service commonwe...  "
      ]
     },
<<<<<<< HEAD
     "execution_count": 62,
=======
     "execution_count": 325,
>>>>>>> b645388f9c7ddac0421169ffc0d79f24e2c5a761
     "metadata": {},
     "output_type": "execute_result"
    }
   ],
   "source": [
    "# 10. Removing meaningless words\n",
    "nltk.download('words')\n",
    "words = set(nltk.corpus.words.words())\n",
    "df['nonEnglish'] = df['content'].apply(lambda x: x.isascii() if isinstance(x, str) else False)\n",
    "df = df[df['nonEnglish'] == True]\n",
    "df = df.drop(['nonEnglish'], axis=1)\n",
    "df['content'] = df['content'].apply(lambda content: remove_2letter_words(content=content))\n",
    "df['content'] = df['content'].apply(lambda content: remove_stop_words(content=content))\n",
    "df.head()"
   ]
<<<<<<< HEAD
=======
  },
  {
   "cell_type": "code",
   "execution_count": 326,
   "metadata": {},
   "outputs": [],
   "source": [
    "# Get base path\n",
    "base_path  = os.getcwd()\n",
    "\n",
    "# Set file path\n",
    "input_file_path = base_path + '\\\\CleanedDatasets\\\\'\n",
    "\n",
    "df.to_csv(input_file_path + '\\\\' + 'tweets_cleaned.csv', mode='a', index=False, header=False)"
   ]
>>>>>>> b645388f9c7ddac0421169ffc0d79f24e2c5a761
  }
 ],
 "metadata": {
  "kernelspec": {
   "display_name": "Python 3.10.7 ('mlenv': venv)",
   "language": "python",
   "name": "python3"
  },
  "language_info": {
   "codemirror_mode": {
    "name": "ipython",
    "version": 3
   },
   "file_extension": ".py",
   "mimetype": "text/x-python",
   "name": "python",
   "nbconvert_exporter": "python",
   "pygments_lexer": "ipython3",
   "version": "3.10.7"
  },
  "orig_nbformat": 4,
  "vscode": {
   "interpreter": {
    "hash": "1306746bd56c4df6af1e05061875d5a1c518f29945151cd9f83e4556169c61d4"
   }
  }
 },
 "nbformat": 4,
 "nbformat_minor": 2
}
